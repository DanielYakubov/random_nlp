{
 "cells": [
  {
   "cell_type": "code",
   "execution_count": 58,
   "id": "7aa1408d",
   "metadata": {},
   "outputs": [],
   "source": [
    "import nltk"
   ]
  },
  {
   "cell_type": "code",
   "execution_count": 59,
   "id": "bb9afde8",
   "metadata": {},
   "outputs": [],
   "source": [
    "from nltk.corpus import brown"
   ]
  },
  {
   "cell_type": "code",
   "execution_count": 129,
   "id": "3d85534f",
   "metadata": {},
   "outputs": [],
   "source": [
    "from collections import defaultdict, Counter"
   ]
  },
  {
   "cell_type": "code",
   "execution_count": 167,
   "id": "bb055f5b",
   "metadata": {},
   "outputs": [],
   "source": [
    "c = defaultdict(Counter)\n",
    "data = brown.sents()\n",
    "\n",
    "for sent in data:\n",
    "    tgs = nltk.trigrams(sent, pad_right=True, pad_left=True,\n",
    "                        left_pad_symbol='<s>', right_pad_symbol='</s>')\n",
    "    for w1, w2, w3 in tgs:\n",
    "        c[w1, w2].update([w3])"
   ]
  },
  {
   "cell_type": "code",
   "execution_count": 175,
   "id": "ce8683f6",
   "metadata": {},
   "outputs": [
    {
     "data": {
      "text/plain": [
       "[('said', 6)]"
      ]
     },
     "execution_count": 175,
     "metadata": {},
     "output_type": "execute_result"
    }
   ],
   "source": [
    "c['the', 'girl'].most_common(1)"
   ]
  },
  {
   "cell_type": "code",
   "execution_count": 178,
   "id": "c40c6072",
   "metadata": {},
   "outputs": [
    {
     "data": {
      "text/plain": [
       "[('.', 5)]"
      ]
     },
     "execution_count": 178,
     "metadata": {},
     "output_type": "execute_result"
    }
   ],
   "source": [
    "c['girl', 'said'].most_common(1)"
   ]
  },
  {
   "cell_type": "code",
   "execution_count": 179,
   "id": "93ab74c3",
   "metadata": {},
   "outputs": [
    {
     "data": {
      "text/plain": [
       "[(',', 122)]"
      ]
     },
     "execution_count": 179,
     "metadata": {},
     "output_type": "execute_result"
    }
   ],
   "source": [
    "c['he', 'said'].most_common(1)"
   ]
  },
  {
   "cell_type": "code",
   "execution_count": 180,
   "id": "3ef69760",
   "metadata": {},
   "outputs": [
    {
     "data": {
      "text/plain": [
       "[('``', 268)]"
      ]
     },
     "execution_count": 180,
     "metadata": {},
     "output_type": "execute_result"
    }
   ],
   "source": [
    "c['said', ','].most_common(1)"
   ]
  },
  {
   "cell_type": "code",
   "execution_count": null,
   "id": "968cd3ee",
   "metadata": {},
   "outputs": [],
   "source": []
  }
 ],
 "metadata": {
  "kernelspec": {
   "display_name": "Python 3 (ipykernel)",
   "language": "python",
   "name": "python3"
  },
  "language_info": {
   "codemirror_mode": {
    "name": "ipython",
    "version": 3
   },
   "file_extension": ".py",
   "mimetype": "text/x-python",
   "name": "python",
   "nbconvert_exporter": "python",
   "pygments_lexer": "ipython3",
   "version": "3.9.7"
  }
 },
 "nbformat": 4,
 "nbformat_minor": 5
}
